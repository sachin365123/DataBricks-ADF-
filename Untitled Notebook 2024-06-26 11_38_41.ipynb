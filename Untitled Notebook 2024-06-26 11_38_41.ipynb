{
 "cells": [
  {
   "cell_type": "code",
   "execution_count": 0,
   "metadata": {
    "application/vnd.databricks.v1+cell": {
     "cellMetadata": {
      "byteLimit": 2048000,
      "rowLimit": 10000
     },
     "inputWidgets": {},
     "nuid": "c4f24f00-ab55-46f0-9050-de4dd5448056",
     "showTitle": false,
     "title": ""
    }
   },
   "outputs": [
    {
     "output_type": "stream",
     "name": "stdout",
     "output_type": "stream",
     "text": [
      "+----+-----+----+-----+-------+-----+-----+-----+----+----+----+\n| _c0|carat| cut|color|clarity|depth|table|price|   x|   y|   z|\n+----+-----+----+-----+-------+-----+-----+-----+----+----+----+\n|3038|  0.3|Good|    G|    VS1| 63.5| 58.0|  565|4.21|4.26|2.69|\n+----+-----+----+-----+-------+-----+-----+-----+----+----+----+\n\n"
     ]
    }
   ],
   "source": [
    "\n",
    "from pyspark.sql import SparkSession\n",
    "\n",
    "# Initialize Spark session\n",
    "spark = SparkSession.builder.appName(\"ExampleApp\").getOrCreate()\n",
    "\n",
    "# Path to your CSV file\n",
    "csv_file_path = \"/FileStore/tables/diamonds-1.csv\"\n",
    "\n",
    "# Read the CSV file into a DataFrame\n",
    "df = spark.read.csv(csv_file_path, header=True, inferSchema=True)\n",
    "\n",
    "# Register DataFrame as a temporary view\n",
    "df.createOrReplaceTempView(\"diamonds_view\")\n",
    "\n",
    "# Define the function to query the view\n",
    "def get_employees_by_departme(c):\n",
    "    query = f\"SELECT * FROM diamonds_view WHERE _c0 = {c}\"\n",
    "    result_df = spark.sql(query)\n",
    "    return result_df\n",
    "\n",
    "# Example usage\n",
    "result = get_employees_by_departme(3038)\n",
    "result.show()\n"
   ]
  }
 ],
 "metadata": {
  "application/vnd.databricks.v1+notebook": {
   "dashboards": [],
   "environmentMetadata": null,
   "language": "python",
   "notebookMetadata": {
    "pythonIndentUnit": 4
   },
   "notebookName": "Untitled Notebook 2024-06-26 11:38:41",
   "widgets": {}
  }
 },
 "nbformat": 4,
 "nbformat_minor": 0
}
