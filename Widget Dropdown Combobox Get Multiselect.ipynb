{
 "cells": [
  {
   "cell_type": "code",
   "execution_count": 0,
   "metadata": {
    "application/vnd.databricks.v1+cell": {
     "cellMetadata": {
      "byteLimit": 2048000,
      "rowLimit": 10000
     },
     "inputWidgets": {},
     "nuid": "9a654455-345a-40f9-9ca6-62d255dc279d",
     "showTitle": false,
     "title": ""
    }
   },
   "outputs": [
    {
     "output_type": "display_data",
     "data": {
      "text/html": [
       "<div class = \"ansiout\"><b>dbutils.widgets</b> provides utilities for working with notebook widgets. You can create\n",
       "different types of widgets and get their bound value.\n",
       "\n",
       "For more info about a method, use <b>dbutils.widgets.help(\"methodName\")</b>.\n",
       "    <h3></h3><b>combobox(name: String, defaultValue: String, choices: Seq, label: String): void</b> -> Creates a combobox input widget with a given name, default value and choices<br /><b>dropdown(name: String, defaultValue: String, choices: Seq, label: String): void</b> -> Creates a dropdown input widget a with given name, default value and choices<br /><b>get(name: String): String</b> -> Retrieves current value of an input widget<br /><b>getAll: Map</b> -> Retrieves a mapping of all current values of the input widgets<br /><b>getArgument(name: String, optional: String): String</b> -> (DEPRECATED) Equivalent to get<br /><b>multiselect(name: String, defaultValue: String, choices: Seq, label: String): void</b> -> Creates a multiselect input widget with a given name, default value and choices<br /><b>remove(name: String): void</b> -> Removes an input widget from the notebook<br /><b>removeAll: void</b> -> Removes all widgets in the notebook<br /><b>text(name: String, defaultValue: String, label: String): void</b> -> Creates a text input widget with a given name and default value<br /><br /></div>"
      ]
     },
     "metadata": {},
     "output_type": "display_data"
    }
   ],
   "source": [
    "dbutils.widgets.help()"
   ]
  },
  {
   "cell_type": "code",
   "execution_count": 0,
   "metadata": {
    "application/vnd.databricks.v1+cell": {
     "cellMetadata": {
      "byteLimit": 2048000,
      "rowLimit": 10000
     },
     "inputWidgets": {},
     "nuid": "fb6c7d1f-79a9-4f07-9459-03e11799f440",
     "showTitle": false,
     "title": ""
    }
   },
   "outputs": [],
   "source": [
    "dbutils.widgets.multiselect(name='CountryNameMS', defaultValue='Mumbai',choices=['Mumbai','Canada','India','US','UK'], label='Country ComboBox2')\n",
    "\n"
   ]
  },
  {
   "cell_type": "code",
   "execution_count": 0,
   "metadata": {
    "application/vnd.databricks.v1+cell": {
     "cellMetadata": {
      "byteLimit": 2048000,
      "rowLimit": 10000
     },
     "inputWidgets": {},
     "nuid": "c01c0dbe-0c03-4d75-950e-b171bf48406d",
     "showTitle": false,
     "title": ""
    }
   },
   "outputs": [],
   "source": [
    "dbutils.widgets.dropdown(name='CountryNameDD', defaultValue='Canada',choices=['Canada','India','US','UK'], label='Country ComboBox')"
   ]
  },
  {
   "cell_type": "code",
   "execution_count": 0,
   "metadata": {
    "application/vnd.databricks.v1+cell": {
     "cellMetadata": {
      "byteLimit": 2048000,
      "rowLimit": 10000
     },
     "inputWidgets": {},
     "nuid": "266a8b8a-4450-4b0e-8e3b-77b78a127f61",
     "showTitle": false,
     "title": ""
    }
   },
   "outputs": [],
   "source": [
    "dbutils.widgets.combobox(name='CountryNameCB', defaultValue='Canada',choices=['Canada','India','US','UK'], label='Country ComboBox')"
   ]
  },
  {
   "cell_type": "code",
   "execution_count": 0,
   "metadata": {
    "application/vnd.databricks.v1+cell": {
     "cellMetadata": {
      "byteLimit": 2048000,
      "rowLimit": 10000
     },
     "inputWidgets": {},
     "nuid": "496f0ec7-3fed-4d03-a2e0-57ace830b54b",
     "showTitle": false,
     "title": ""
    }
   },
   "outputs": [
    {
     "output_type": "stream",
     "name": "stdout",
     "output_type": "stream",
     "text": [
      "bai,Ind\n"
     ]
    }
   ],
   "source": [
    "var=dbutils.widgets.get('CountryNameMS')\n",
    "print(var[3:10])"
   ]
  },
  {
   "cell_type": "code",
   "execution_count": 0,
   "metadata": {
    "application/vnd.databricks.v1+cell": {
     "cellMetadata": {
      "byteLimit": 2048000,
      "rowLimit": 10000
     },
     "inputWidgets": {},
     "nuid": "1d7a1ca1-98d3-428c-86fe-5095755bf531",
     "showTitle": false,
     "title": ""
    }
   },
   "outputs": [
    {
     "output_type": "stream",
     "name": "stdout",
     "output_type": "stream",
     "text": [
      "<class 'str'>\n"
     ]
    }
   ],
   "source": [
    "print(type(var[5]))"
   ]
  }
 ],
 "metadata": {
  "application/vnd.databricks.v1+notebook": {
   "dashboards": [],
   "environmentMetadata": null,
   "language": "python",
   "notebookMetadata": {
    "pythonIndentUnit": 4
   },
   "notebookName": "Widget Dropdown Combobox Get Multiselect",
   "widgets": {
    "CountryNameCB": {
     "currentValue": "",
     "nuid": "9d6b43cb-9f6a-4d72-822c-5d49913cc564",
     "typedWidgetInfo": null,
     "widgetInfo": {
      "widgetType": "combobox",
      "defaultValue": "Canada",
      "label": "Country ComboBox",
      "name": "CountryNameCB",
      "options": {
       "widgetType": "dropdown",
       "autoCreated": null,
       "choices": [
        "Canada",
        "India",
        "US",
        "UK"
       ]
      }
     }
    },
    "CountryNameDD": {
     "currentValue": "Canada",
     "nuid": "4b3f3254-036c-4c88-9d2f-95c897d02259",
     "typedWidgetInfo": null,
     "widgetInfo": {
      "widgetType": "dropdown",
      "defaultValue": "Canada",
      "label": "Country ComboBox",
      "name": "CountryNameDD",
      "options": {
       "widgetType": "dropdown",
       "autoCreated": null,
       "choices": [
        "Canada",
        "India",
        "US",
        "UK"
       ]
      }
     }
    },
    "CountryNameMS": {
     "currentValue": "Mumbai,India,US",
     "nuid": "fa263194-b795-4e85-be22-79ba082ab87d",
     "typedWidgetInfo": null,
     "widgetInfo": {
      "widgetType": "multiselect",
      "defaultValue": "Mumbai",
      "label": "Country ComboBox2",
      "name": "CountryNameMS",
      "options": {
       "widgetType": "dropdown",
       "autoCreated": null,
       "choices": [
        "Mumbai",
        "Canada",
        "India",
        "US",
        "UK"
       ]
      }
     }
    }
   }
  }
 },
 "nbformat": 4,
 "nbformat_minor": 0
}
